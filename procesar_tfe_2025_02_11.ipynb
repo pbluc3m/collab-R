{
  "nbformat": 4,
  "nbformat_minor": 0,
  "metadata": {
    "colab": {
      "provenance": [],
      "authorship_tag": "ABX9TyMpCezvVXzjrnxd1niKEZS6",
      "include_colab_link": true
    },
    "kernelspec": {
      "name": "python3",
      "display_name": "Python 3"
    },
    "language_info": {
      "name": "python"
    }
  },
  "cells": [
    {
      "cell_type": "markdown",
      "metadata": {
        "id": "view-in-github",
        "colab_type": "text"
      },
      "source": [
        "<a href=\"https://colab.research.google.com/github/pbluc3m/collab-R/blob/main/procesar_tfe_2025_02_11.ipynb\" target=\"_parent\"><img src=\"https://colab.research.google.com/assets/colab-badge.svg\" alt=\"Open In Colab\"/></a>"
      ]
    },
    {
      "cell_type": "code",
      "source": [
        "# Última versión: 2025-02-25\n",
        "# PARTE 0: cojo los ficheros de Olivia y Teresa y los uno para lo que me interesa\n",
        "\n",
        "import pandas as pd\n",
        "\n",
        "input_teresa = 'JASPER_TFE_EPS_23-24.xlsx'\n",
        "input_olivia = 'JASPER_TFF_COLME_23-24.xls'\n",
        "\n",
        "df_teresa = pd.read_excel(input_teresa)\n",
        "df_olivia = pd.read_excel(input_olivia)\n",
        "\n",
        "columnas = [\"NIA\", \"ALUMNO\", \"COD.CENTRO\", \"CENTRO\", \"COD.EST\", \"ESTUDIOS\", \"COD.PLAN\", \"PLAN\", \"COD.ASIG\", \"ASIGNATURA\", \"COD.OFERTA\", \"TITULO\", \"IDIOMA\", \"NOTA\", \"CALIF\", \"SUPERADA\", \"FECHA CALIF.\", \"TUTOR\", \"DEPARTAMENTO_TUTOR\", \"TUTOR_EXTERNO\"]\n",
        "df_teresa_c = df_teresa.loc[:, df_teresa.columns.intersection(columnas)]\n",
        "df_olivia_c = df_olivia.loc[:, df_olivia.columns.intersection(columnas)]\n",
        "\n",
        "df = pd.concat([df_teresa_c, df_olivia_c], ignore_index=True)\n",
        "\n",
        "# Total a procesar\n",
        "total_rows = df_raw.shape[0]\n",
        "print(f\"Total TFEs: {total_rows}\")\n"
      ],
      "metadata": {
        "id": "csM-yDrdCiaF",
        "colab": {
          "base_uri": "https://localhost:8080/"
        },
        "outputId": "6e5792e6-0b6c-4883-adff-3f33ba558222"
      },
      "execution_count": 16,
      "outputs": [
        {
          "output_type": "stream",
          "name": "stdout",
          "text": [
            "Total TFEs: 1350\n"
          ]
        }
      ]
    },
    {
      "cell_type": "code",
      "source": [
        "# FILTRAMOS SUPERADAS que no sean ADE y sin DUPLICADOS del doble grado\n",
        "\n",
        "# Vamos a quedarnos con los superados\n",
        "df = df[df[\"SUPERADA\"].str.strip().str.upper() == \"S\"]\n",
        "\n",
        "# Vamos a quitar los de ADE\n",
        "df = df[df[\"ASIGNATURA\"] != \"Trabajo Fin de Grado (ADE)\"]\n",
        "\n",
        "# Quito los TFE que sean la misma oferta (problema con dobles grados)\n",
        "#df = df.drop_duplicates(subset='COD.OFERTA', keep='first')\n",
        "df = df[df['FECHA CALIF.'].notna()]\n",
        "\n",
        "# Para doble grado Informatica ADE,\n",
        "df['ASIGNATURA'] = df['ASIGNATURA'].replace(\n",
        "    \"Trabajo Fin de Grado (Informática)\",\n",
        "    \"Trabajo Fin de Grado\"\n",
        ")\n",
        "\n",
        "# La tilde\n",
        "df['ASIGNATURA'] = df['ASIGNATURA'].replace(\n",
        "    \"Trabajo Fin de Master\",\n",
        "    \"Trabajo Fin de Máster\"\n",
        ")\n",
        "\n",
        "# La 'de'\n",
        "df['ASIGNATURA'] = df['ASIGNATURA'].replace(\n",
        "    \"Trabajo de Fin de Máster\",\n",
        "    \"Trabajo Fin de Máster\"\n",
        ")\n",
        "\n",
        "total_rows = df.shape[0]\n",
        "print(f\"Total TFEs: {total_rows}\")"
      ],
      "metadata": {
        "colab": {
          "base_uri": "https://localhost:8080/"
        },
        "id": "UURkqP_INiDF",
        "outputId": "9341825b-5fde-4d1e-ea7b-bc1dd63df343"
      },
      "execution_count": 17,
      "outputs": [
        {
          "output_type": "stream",
          "name": "stdout",
          "text": [
            "Total TFEs: 1284\n"
          ]
        }
      ]
    },
    {
      "cell_type": "code",
      "source": [
        "# Estadisticas vs. Marina 2025-02-24\n",
        "\n",
        "# PARTE 1: BASIC STATS\n",
        "\n",
        "# Por centro\n",
        "centro = df.groupby(\"CENTRO\").size()\n",
        "print(centro)\n",
        "\n",
        "# Por estudios\n",
        "estudio_counts = df.groupby(\"ESTUDIOS\").size()\n",
        "print(estudio_counts)"
      ],
      "metadata": {
        "colab": {
          "base_uri": "https://localhost:8080/"
        },
        "id": "QJrNWFAPhp_4",
        "outputId": "718fa026-a001-4c95-bd18-6dc37965a72e"
      },
      "execution_count": 18,
      "outputs": [
        {
          "output_type": "stream",
          "name": "stdout",
          "text": [
            "CENTRO\n",
            "Escuela Politécnica Superior (Colmenarejo)             58\n",
            "Escuela Politécnica Superior (Leganés)                952\n",
            "Escuela Politécnica Superior - Centro de Postgrado    274\n",
            "dtype: int64\n",
            "ESTUDIOS\n",
            "Alumnos de Programas de Intercambio                                                      1\n",
            "Doble Grado en Ingeniería Física e Ingeniería en Tecnologías Industriales                1\n",
            "Doble Grado en Ingeniería Informática y Administración de Empresas                      28\n",
            "Grado en Ciencia e Ingeniería de Datos                                                  48\n",
            "Grado en Ciencias                                                                        1\n",
            "Grado en Ingeniería Aeroespacial                                                        89\n",
            "Grado en Ingeniería Biomédica                                                           53\n",
            "Grado en Ingeniería Electrónica Industrial y Automática                                 94\n",
            "Grado en Ingeniería Eléctrica                                                           32\n",
            "Grado en Ingeniería Física                                                              22\n",
            "Grado en Ingeniería Informática                                                        164\n",
            "Grado en Ingeniería Mecánica                                                           108\n",
            "Grado en Ingeniería Telemática                                                          27\n",
            "Grado en Ingeniería de Comunicaciones Móviles y Espaciales                              15\n",
            "Grado en Ingeniería de Sonido e Imagen                                                  29\n",
            "Grado en Ingeniería de la Energía                                                       26\n",
            "Grado en Ingeniería en Tecnologías Industriales                                        164\n",
            "Grado en Ingeniería en Tecnologías de Telecomunicación                                  75\n",
            "Grado en Matemática Aplicada y Computación                                              33\n",
            "Master Universitario en Ingeniería Industrial                                          173\n",
            "Master Universitario en Ingeniería Informática                                          16\n",
            "Master Universitario en Ingeniería de Telecomunicación                                  40\n",
            "Máster Universitario en Ingeniería Aeronáutica / Master in Aeronautical Engineering     43\n",
            "Programas de Intercambio de Postgrado                                                    2\n",
            "dtype: int64\n"
          ]
        }
      ]
    },
    {
      "cell_type": "code",
      "source": [
        "# Asignar tutores a departamento\n",
        "df.loc[df['TUTOR'] == \"GONZALEZ CABAÑAS, JOSE\", 'DEPARTAMENTO_TUTOR'] = \"Departamento de Ingeniería Telemática\"\n",
        "df.loc[df['TUTOR'] == \"GOMEZ MARTIN, ADRIAN\", 'DEPARTAMENTO_TUTOR'] = \"Departamento de Bioingeniería\"\n",
        "\n",
        "# 2025-02-18 Jero (TSC) detecta uno que estaba en Informática\n",
        "df.loc[df['TUTOR'] == \"MARTINEZ CORTES, TOMAS\", 'DEPARTAMENTO_TUTOR'] = \"Departamento de Teoría de la Señal y Comunicaciones\""
      ],
      "metadata": {
        "id": "78OxS9kyNwrU"
      },
      "execution_count": 19,
      "outputs": []
    },
    {
      "cell_type": "code",
      "source": [
        "# Quito acentos y lo de Departamento de\n",
        "import unicodedata\n",
        "\n",
        "# Quitamos los acentos\n",
        "def remove_accents(text):\n",
        "    if isinstance(text, str):\n",
        "        return \"\".join(c for c in unicodedata.normalize(\"NFD\", text) if unicodedata.category(c) != \"Mn\")\n",
        "    return text\n",
        "\n",
        "df[\"DEPARTAMENTO_TUTOR\"] = df[\"DEPARTAMENTO_TUTOR\"].apply(remove_accents)\n",
        "\n",
        "# Lo de Departamento de\n",
        "df[\"DEPARTAMENTO_TUTOR\"] = df[\"DEPARTAMENTO_TUTOR\"].str.replace(\"Departamento de \", \"\", regex=False)\n",
        "# Por departamento\n",
        "departamento = df.groupby(\"DEPARTAMENTO_TUTOR\").size()\n",
        "print(departamento)"
      ],
      "metadata": {
        "colab": {
          "base_uri": "https://localhost:8080/"
        },
        "id": "JvCKwVNXXfxX",
        "outputId": "8f0390ac-109e-43d2-e6ff-dfda4e7f2c0c"
      },
      "execution_count": 20,
      "outputs": [
        {
          "output_type": "stream",
          "name": "stdout",
          "text": [
            "DEPARTAMENTO_TUTOR\n",
            "Bioingenieria                                               41\n",
            "Ciencia e Ingenieria de Materiales e Ingenieria Quimica     24\n",
            "Economia de la Empresa                                       1\n",
            "Estadistica                                                 17\n",
            "Fisica                                                      10\n",
            "Informatica                                                216\n",
            "Ingenieria Aeroespacial                                    110\n",
            "Ingenieria Electrica                                        81\n",
            "Ingenieria Mecanica                                        141\n",
            "Ingenieria Telematica                                      102\n",
            "Ingenieria Termica y de Fluidos                            133\n",
            "Ingenieria de Sistemas y Automatica                         83\n",
            "Matematicas                                                 19\n",
            "Mecanica de Medios Continuos y Teoria de Estructuras       100\n",
            "Tecnologia Electronica                                      98\n",
            "Teoria de la Senal y Comunicaciones                        108\n",
            "dtype: int64\n"
          ]
        }
      ]
    },
    {
      "cell_type": "code",
      "source": [
        "#####################\n",
        "# HAGO COPIA DF2\n",
        "#####################\n",
        "df2 = df.copy()"
      ],
      "metadata": {
        "id": "BLM1fAlZYIb6"
      },
      "execution_count": 65,
      "outputs": []
    },
    {
      "cell_type": "code",
      "source": [
        "### MECANICA\n",
        "\n",
        "# Cojo el input de mecanica\n",
        "input_mecanica = 'mecanica-personal.xlsx'\n",
        "df_mecanica = pd.read_excel(input_mecanica)\n",
        "# Count duplicated TUTOR values\n",
        "repeated_count = df_mecanica['TUTOR'].duplicated(keep=False).sum()\n",
        "print(f\"Number of repeated TUTOR entries: {repeated_count}\")\n",
        "\n",
        "# Compruebo que son todos los trabajos\n",
        "count = df2['TUTOR'].isin(df_mecanica['TUTOR']).sum()\n",
        "print(f\"Number of matching TUTORs: {count}\")\n",
        "\n",
        "# Sobreescribo DEPARTAMENTO_TUTOR segun los valores de mecanica\n",
        "\n",
        "# Create a mapping from TUTOR to DEPARTAMENTO_AREA\n",
        "tutor_to_area = df_mecanica.set_index('TUTOR')['DEPARTAMENTO_AREA']\n",
        "\n",
        "# Replace DEPARTAMENTO_TUTOR in df where TUTOR matches\n",
        "df2['DEPARTAMENTO_TUTOR'] = df2['TUTOR'].map(tutor_to_area).combine_first(df2['DEPARTAMENTO_TUTOR'])\n",
        "\n",
        "# Por departamento\n",
        "departamento = df2.groupby(\"DEPARTAMENTO_TUTOR\").size()\n",
        "print(departamento)"
      ],
      "metadata": {
        "colab": {
          "base_uri": "https://localhost:8080/"
        },
        "id": "aYm0PxdpYr_5",
        "outputId": "7baeff6f-9539-4e77-8f74-f9f30194e25c"
      },
      "execution_count": 66,
      "outputs": [
        {
          "output_type": "stream",
          "name": "stdout",
          "text": [
            "Number of repeated TUTOR entries: 0\n",
            "Number of matching TUTORs: 141\n",
            "DEPARTAMENTO_TUTOR\n",
            "Bioingenieria                                               41\n",
            "Ciencia e Ingenieria de Materiales e Ingenieria Quimica     24\n",
            "Economia de la Empresa                                       1\n",
            "Estadistica                                                 17\n",
            "Fisica                                                      10\n",
            "Informatica                                                216\n",
            "Ingenieria Aeroespacial                                    110\n",
            "Ingenieria Electrica                                        81\n",
            "Ingenieria Mecanica-Mecanica                                81\n",
            "Ingenieria Mecanica-Organizacion                            60\n",
            "Ingenieria Telematica                                      102\n",
            "Ingenieria Termica y de Fluidos                            133\n",
            "Ingenieria de Sistemas y Automatica                         83\n",
            "Matematicas                                                 19\n",
            "Mecanica de Medios Continuos y Teoria de Estructuras       100\n",
            "Tecnologia Electronica                                      98\n",
            "Teoria de la Senal y Comunicaciones                        108\n",
            "dtype: int64\n"
          ]
        }
      ]
    },
    {
      "cell_type": "code",
      "source": [
        "# COTUTELAS\n",
        "\n",
        "df2['PESO'] = 1.0\n",
        "# 2025-02-20 Dolores (Automática) me avisa de co-tutela con Informática\n",
        "df2.loc[df['ALUMNO'] == 'RAMOS GARCIA, MIGUEL', 'PESO'] = 0.5\n",
        "row_to_duplicate = df2[df2['ALUMNO'] == 'RAMOS GARCIA, MIGUEL'].copy()\n",
        "row_to_duplicate['TUTOR'] = 'CASTRO GONZALEZ, ALVARO'\n",
        "row_to_duplicate['DEPARTAMENTO_TUTOR'] = 'Ingenieria de Sistemas y Automatica'\n",
        "df2 = pd.concat([df2, row_to_duplicate], ignore_index=True)"
      ],
      "metadata": {
        "id": "t0RxE1l0XX5w"
      },
      "execution_count": 67,
      "outputs": []
    },
    {
      "cell_type": "code",
      "source": [
        "# Saco los totales\n",
        "# Group by 'DEPARTAMENTO_TUTOR' and sum 'PESO'\n",
        "peso_sum = df2.groupby('DEPARTAMENTO_TUTOR')['PESO'].sum().reset_index()\n",
        "\n",
        "# Rename column for clarity (optional)\n",
        "peso_sum.rename(columns={'PESO': 'TOTAL_PESO'}, inplace=True)\n",
        "\n",
        "# Display result\n",
        "print(peso_sum)"
      ],
      "metadata": {
        "colab": {
          "base_uri": "https://localhost:8080/"
        },
        "id": "cyDeV9NVf4lL",
        "outputId": "94e846d2-8008-4673-ef20-163614f81e28"
      },
      "execution_count": 68,
      "outputs": [
        {
          "output_type": "stream",
          "name": "stdout",
          "text": [
            "                                   DEPARTAMENTO_TUTOR  TOTAL_PESO\n",
            "0                                       Bioingenieria        41.0\n",
            "1   Ciencia e Ingenieria de Materiales e Ingenieri...        24.0\n",
            "2                              Economia de la Empresa         1.0\n",
            "3                                         Estadistica        17.0\n",
            "4                                              Fisica        10.0\n",
            "5                                         Informatica       215.5\n",
            "6                             Ingenieria Aeroespacial       110.0\n",
            "7                                Ingenieria Electrica        81.0\n",
            "8                        Ingenieria Mecanica-Mecanica        81.0\n",
            "9                    Ingenieria Mecanica-Organizacion        60.0\n",
            "10                              Ingenieria Telematica       102.0\n",
            "11                    Ingenieria Termica y de Fluidos       133.0\n",
            "12                Ingenieria de Sistemas y Automatica        83.5\n",
            "13                                        Matematicas        19.0\n",
            "14  Mecanica de Medios Continuos y Teoria de Estru...       100.0\n",
            "15                             Tecnologia Electronica        98.0\n",
            "16                Teoria de la Senal y Comunicaciones       108.0\n"
          ]
        }
      ]
    },
    {
      "cell_type": "code",
      "execution_count": null,
      "metadata": {
        "colab": {
          "base_uri": "https://localhost:8080/"
        },
        "id": "aHT05bpvDw-y",
        "outputId": "96ad9085-fe1f-4925-e071-4e0eb148f8e2"
      },
      "outputs": [
        {
          "output_type": "stream",
          "name": "stdout",
          "text": [
            "CENTRO\n",
            "Escuela Politécnica Superior (Colmenarejo)             58\n",
            "Escuela Politécnica Superior (Leganés)                952\n",
            "Escuela Politécnica Superior - Centro de Postgrado    274\n",
            "dtype: int64\n",
            "DEPARTAMENTO_TUTOR\n",
            "Departamento de Bioingeniería                                               41\n",
            "Departamento de Ciencia e Ingeniería de Materiales e Ingenieria Química     24\n",
            "Departamento de Economía de la Empresa                                       1\n",
            "Departamento de Estadística                                                 17\n",
            "Departamento de Física                                                      10\n",
            "Departamento de Informática                                                216\n",
            "Departamento de Ingeniería Aeroespacial                                    110\n",
            "Departamento de Ingeniería Eléctrica                                        81\n",
            "Departamento de Ingeniería Mecánica                                        141\n",
            "Departamento de Ingeniería Telemática                                      102\n",
            "Departamento de Ingeniería Térmica y de Fluidos                            133\n",
            "Departamento de Ingeniería de Sistemas y Automática                         83\n",
            "Departamento de Matemáticas                                                 19\n",
            "Departamento de Mecánica de Medios Continuos y Teoría de Estructuras       100\n",
            "Departamento de Tecnología Electrónica                                      98\n",
            "Departamento de Teoría de la Señal y Comunicaciones                        108\n",
            "dtype: int64\n",
            "ESTUDIOS\n",
            "Alumnos de Programas de Intercambio                                                      1\n",
            "Doble Grado en Ingeniería Física e Ingeniería en Tecnologías Industriales                1\n",
            "Doble Grado en Ingeniería Informática y Administración de Empresas                       7\n",
            "Grado en Ciencia e Ingeniería de Datos                                                  48\n",
            "Grado en Ciencias                                                                        1\n",
            "Grado en Ingeniería Aeroespacial                                                        89\n",
            "Grado en Ingeniería Biomédica                                                           53\n",
            "Grado en Ingeniería Electrónica Industrial y Automática                                 94\n",
            "Grado en Ingeniería Eléctrica                                                           32\n",
            "Grado en Ingeniería Física                                                              22\n",
            "Grado en Ingeniería Informática                                                        185\n",
            "Grado en Ingeniería Mecánica                                                           108\n",
            "Grado en Ingeniería Telemática                                                          27\n",
            "Grado en Ingeniería de Comunicaciones Móviles y Espaciales                              15\n",
            "Grado en Ingeniería de Sonido e Imagen                                                  29\n",
            "Grado en Ingeniería de la Energía                                                       26\n",
            "Grado en Ingeniería en Tecnologías Industriales                                        164\n",
            "Grado en Ingeniería en Tecnologías de Telecomunicación                                  75\n",
            "Grado en Matemática Aplicada y Computación                                              33\n",
            "Master Universitario en Ingeniería Industrial                                          173\n",
            "Master Universitario en Ingeniería Informática                                          16\n",
            "Master Universitario en Ingeniería de Telecomunicación                                  40\n",
            "Máster Universitario en Ingeniería Aeronáutica / Master in Aeronautical Engineering     43\n",
            "Programas de Intercambio de Postgrado                                                    2\n",
            "dtype: int64\n"
          ]
        }
      ],
      "source": [
        "# PARTE 1: BASIC STATS\n",
        "\n",
        "# Por centro\n",
        "centro = df.groupby(\"CENTRO\").size()\n",
        "print(centro)\n",
        "\n",
        "# Por departamento\n",
        "departamento = df.groupby(\"DEPARTAMENTO_TUTOR\").size()\n",
        "print(departamento)\n",
        "\n",
        "estudio_counts = df.groupby(\"ESTUDIOS\").size()\n",
        "# Display the counts\n",
        "print(estudio_counts)"
      ]
    },
    {
      "cell_type": "code",
      "source": [
        "# PARTE 2: Generar archivo por departamento\n",
        "import unicodedata\n",
        "\n",
        "# Quitamos los acentos\n",
        "\n",
        "def remove_accents(text):\n",
        "    if isinstance(text, str):\n",
        "        return \"\".join(c for c in unicodedata.normalize(\"NFD\", text) if unicodedata.category(c) != \"Mn\")\n",
        "    return text\n",
        "\n",
        "df[\"DEPARTAMENTO_TUTOR\"] = df[\"DEPARTAMENTO_TUTOR\"].apply(remove_accents)\n",
        "\n",
        "# Estadisticas\n",
        "total_rows = df.shape[0]\n",
        "print(f\"Total number of rows: {total_rows}\")\n",
        "\n",
        "filtered_df = df[df[\"DEPARTAMENTO_TUTOR\"].str.startswith(\"Departamento de\", na=False)]\n",
        "total_rows = filtered_df.shape[0]\n",
        "print(f\"Total number of rows where Departamento de: {total_rows}\")\n"
      ],
      "metadata": {
        "colab": {
          "base_uri": "https://localhost:8080/"
        },
        "id": "nXY16fdslVOn",
        "outputId": "bf1fb8be-3800-418f-b242-d41072632d9c"
      },
      "execution_count": null,
      "outputs": [
        {
          "output_type": "stream",
          "name": "stdout",
          "text": [
            "Total number of rows: 1305\n",
            "Total number of rows where Departamento de: 1305\n"
          ]
        }
      ]
    },
    {
      "cell_type": "code",
      "source": [
        "# Quito lo de \"Departamento de\"\n",
        "\n",
        "df[\"DEPARTAMENTO_TUTOR\"] = df[\"DEPARTAMENTO_TUTOR\"].str.replace(\"Departamento de \", \"\", regex=False)\n",
        "# Por departamento\n",
        "departamento = df.groupby(\"DEPARTAMENTO_TUTOR\").size()\n",
        "print(departamento)"
      ],
      "metadata": {
        "colab": {
          "base_uri": "https://localhost:8080/"
        },
        "id": "oDIllpTmmzd0",
        "outputId": "0e3f92be-26a7-4a85-b9b2-6ac90ba05ec8"
      },
      "execution_count": null,
      "outputs": [
        {
          "output_type": "stream",
          "name": "stdout",
          "text": [
            "DEPARTAMENTO_TUTOR\n",
            "Bioingenieria                                               41\n",
            "Ciencia e Ingenieria de Materiales e Ingenieria Quimica     24\n",
            "Economia de la Empresa                                       1\n",
            "Estadistica                                                 17\n",
            "Fisica                                                      10\n",
            "Informatica                                                233\n",
            "Ingenieria Aeroespacial                                    110\n",
            "Ingenieria Electrica                                        81\n",
            "Ingenieria Mecanica                                        141\n",
            "Ingenieria Telematica                                      105\n",
            "Ingenieria Termica y de Fluidos                            133\n",
            "Ingenieria de Sistemas y Automatica                         83\n",
            "Matematicas                                                 19\n",
            "Mecanica de Medios Continuos y Teoria de Estructuras       100\n",
            "Tecnologia Electronica                                      99\n",
            "Teoria de la Senal y Comunicaciones                        108\n",
            "dtype: int64\n"
          ]
        }
      ]
    },
    {
      "cell_type": "code",
      "source": [
        "import os\n",
        "\n",
        "output_folder = \"TFE-Departamentos\"\n",
        "os.makedirs(output_folder, exist_ok=True)\n",
        "\n",
        "for department, group_df in filtered_df.groupby(\"DEPARTAMENTO_TUTOR\"):\n",
        "    safe_filename = f\"{department}.xlsx\".replace(\"/\", \"_\").replace(\" \", \"_\")\n",
        "    file_path = os.path.join(output_folder, safe_filename)\n",
        "    group_df.to_excel(file_path, index=False, engine=\"openpyxl\")\n",
        "    print(f\"Saved {safe_filename}\")\n"
      ],
      "metadata": {
        "colab": {
          "base_uri": "https://localhost:8080/"
        },
        "id": "YHqc-wUpO5Qj",
        "outputId": "4e66c30d-ba54-4017-adc6-6e1db3a9f5d7"
      },
      "execution_count": null,
      "outputs": [
        {
          "output_type": "stream",
          "name": "stdout",
          "text": [
            "Saved Departamento_de_Bioingenieria.xlsx\n",
            "Saved Departamento_de_Ciencia_e_Ingenieria_de_Materiales_e_Ingenieria_Quimica.xlsx\n",
            "Saved Departamento_de_Economia_de_la_Empresa.xlsx\n",
            "Saved Departamento_de_Estadistica.xlsx\n",
            "Saved Departamento_de_Fisica.xlsx\n",
            "Saved Departamento_de_Informatica.xlsx\n",
            "Saved Departamento_de_Ingenieria_Aeroespacial.xlsx\n",
            "Saved Departamento_de_Ingenieria_Electrica.xlsx\n",
            "Saved Departamento_de_Ingenieria_Mecanica.xlsx\n",
            "Saved Departamento_de_Ingenieria_Telematica.xlsx\n",
            "Saved Departamento_de_Ingenieria_Termica_y_de_Fluidos.xlsx\n",
            "Saved Departamento_de_Ingenieria_de_Sistemas_y_Automatica.xlsx\n",
            "Saved Departamento_de_Matematicas.xlsx\n",
            "Saved Departamento_de_Mecanica_de_Medios_Continuos_y_Teoria_de_Estructuras.xlsx\n",
            "Saved Departamento_de_Tecnologia_Electronica.xlsx\n",
            "Saved Departamento_de_Teoria_de_la_Senal_y_Comunicaciones.xlsx\n"
          ]
        }
      ]
    }
  ]
}