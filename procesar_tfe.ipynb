{
  "nbformat": 4,
  "nbformat_minor": 0,
  "metadata": {
    "colab": {
      "provenance": [],
      "authorship_tag": "ABX9TyMotVzc/V9ec/4M4Rt9oFyD",
      "include_colab_link": true
    },
    "kernelspec": {
      "name": "python3",
      "display_name": "Python 3"
    },
    "language_info": {
      "name": "python"
    }
  },
  "cells": [
    {
      "cell_type": "markdown",
      "metadata": {
        "id": "view-in-github",
        "colab_type": "text"
      },
      "source": [
        "<a href=\"https://colab.research.google.com/github/pbluc3m/collab-R/blob/main/procesar_tfe.ipynb\" target=\"_parent\"><img src=\"https://colab.research.google.com/assets/colab-badge.svg\" alt=\"Open In Colab\"/></a>"
      ]
    },
    {
      "cell_type": "code",
      "source": [
        "# Parte 0: cojo los ficheros de Olivia y Teresa y los uno para lo que me interesa\n",
        "\n",
        "import pandas as pd\n",
        "\n",
        "input_teresa = 'JASPER_TFE_EPS_23-24.xlsx'\n",
        "input_olivia = 'JASPER_TFF_COLME_23-24.xls'\n",
        "\n",
        "df_teresa = pd.read_excel(input_teresa)\n",
        "df_olivia = pd.read_excel(input_olivia)\n",
        "\n",
        "columnas = [\"NIA\", \"ALUMNO\", \"COD.CENTRO\", \"CENTRO\", \"COD.EST\", \"ESTUDIOS\", \"COD.PLAN\", \"PLAN\", \"COD.ASIG\", \"ASIGNATURA\", \"COD.OFERTA\", \"TITULO\", \"IDIOMA\", \"NOTA\", \"CALIF\", \"SUPERADA\", \"TUTOR\", \"DEPARTAMENTO_TUTOR\", \"TUTOR_EXTERNO\"]\n",
        "df_teresa_c = df_teresa.loc[:, df_teresa.columns.intersection(columnas)]\n",
        "df_olivia_c = df_olivia.loc[:, df_olivia.columns.intersection(columnas)]\n",
        "\n",
        "df = pd.concat([df_teresa_c, df_olivia_c], ignore_index=True)\n",
        "\n"
      ],
      "metadata": {
        "id": "csM-yDrdCiaF"
      },
      "execution_count": 1,
      "outputs": []
    },
    {
      "cell_type": "code",
      "source": [
        "# Vamos a arreglar dos casos identificados\n",
        "\n",
        "# Asignar tutores a departamento\n",
        "df.loc[df['TUTOR'] == \"GONZALEZ CABAÑAS, JOSE\", 'DEPARTAMENTO_TUTOR'] = \"Departamento de Ingeniería Telemática\"\n",
        "df.loc[df['TUTOR'] == \"GOMEZ MARTIN, ADRIAN\", 'DEPARTAMENTO_TUTOR'] = \"Departamento de Bioingeniería\"\n",
        "\n",
        "# Para doble grado Informatica ADE,\n",
        "df['ASIGNATURA'] = df['ASIGNATURA'].replace(\n",
        "    \"Trabajo Fin de Grado (Informática)\",\n",
        "    \"Trabajo Fin de Grado\"\n",
        ")\n",
        "# La tilde\n",
        "df['ASIGNATURA'] = df['ASIGNATURA'].replace(\n",
        "    \"Trabajo Fin de Master\",\n",
        "    \"Trabajo Fin de Máster\"\n",
        ")\n",
        "# La 'de'\n",
        "df['ASIGNATURA'] = df['ASIGNATURA'].replace(\n",
        "    \"Trabajo de Fin de Máster\",\n",
        "    \"Trabajo Fin de Máster\"\n",
        ")"
      ],
      "metadata": {
        "id": "ztySTTcjtGRr"
      },
      "execution_count": 4,
      "outputs": []
    },
    {
      "cell_type": "code",
      "execution_count": 5,
      "metadata": {
        "colab": {
          "base_uri": "https://localhost:8080/"
        },
        "id": "aHT05bpvDw-y",
        "outputId": "202c97b8-6dd4-4c06-94be-08632183fe48"
      },
      "outputs": [
        {
          "output_type": "stream",
          "name": "stdout",
          "text": [
            "Total TFEs: 1305\n",
            "Total TFEs superados: 1305\n",
            "Total TFEs superados sin ADE: 1305\n"
          ]
        }
      ],
      "source": [
        "# PARTE 1: BASIC STATS\n",
        "\n",
        "total_rows = df.shape[0]\n",
        "print(f\"Total TFEs: {total_rows}\")\n",
        "\n",
        "# Vamos a quedarnos con los superados\n",
        "df = df[df[\"SUPERADA\"].str.strip().str.upper() == \"S\"]\n",
        "filtered_rows = df.shape[0]\n",
        "print(f\"Total TFEs superados: {filtered_rows}\")\n",
        "\n",
        "# Vamos a quitar los de ADE\n",
        "df = df[df[\"ASIGNATURA\"] != \"Trabajo Fin de Grado (ADE)\"]\n",
        "\n",
        "filtered_rows = df.shape[0]\n",
        "print(f\"Total TFEs superados sin ADE: {filtered_rows}\")\n"
      ]
    },
    {
      "cell_type": "code",
      "source": [
        "# Por centro\n",
        "centro = df.groupby(\"ASIGNATURA\").size()\n",
        "print(centro)"
      ],
      "metadata": {
        "colab": {
          "base_uri": "https://localhost:8080/"
        },
        "id": "noke6XLisdjp",
        "outputId": "bd89c00d-0629-4f73-9fe7-b5a4e2bde46d"
      },
      "execution_count": 6,
      "outputs": [
        {
          "output_type": "stream",
          "name": "stdout",
          "text": [
            "ASIGNATURA\n",
            "Trabajo Fin de Grado     1031\n",
            "Trabajo Fin de Máster     274\n",
            "dtype: int64\n"
          ]
        }
      ]
    },
    {
      "cell_type": "code",
      "source": [
        "# Por centro\n",
        "centro = df.groupby(\"CENTRO\").size()\n",
        "print(centro)"
      ],
      "metadata": {
        "colab": {
          "base_uri": "https://localhost:8080/"
        },
        "id": "bM0kOXF7sWgt",
        "outputId": "a53a391a-17ef-40b1-ec8d-896b3136fe1b"
      },
      "execution_count": 8,
      "outputs": [
        {
          "output_type": "stream",
          "name": "stdout",
          "text": [
            "CENTRO\n",
            "Escuela Politécnica Superior (Colmenarejo)             79\n",
            "Escuela Politécnica Superior (Leganés)                952\n",
            "Escuela Politécnica Superior - Centro de Postgrado    274\n",
            "dtype: int64\n"
          ]
        }
      ]
    },
    {
      "cell_type": "code",
      "source": [
        "# Por estudios\n",
        "estudio_counts = df.groupby(\"ESTUDIOS\").size()\n",
        "print(estudio_counts)"
      ],
      "metadata": {
        "colab": {
          "base_uri": "https://localhost:8080/"
        },
        "id": "vEfuYB0KuO4B",
        "outputId": "547a4a36-c6f7-4e4c-c478-c1dede803df4"
      },
      "execution_count": 10,
      "outputs": [
        {
          "output_type": "stream",
          "name": "stdout",
          "text": [
            "DEPARTAMENTO_TUTOR\n",
            "Departamento de Bioingeniería                                               41\n",
            "Departamento de Ciencia e Ingeniería de Materiales e Ingenieria Química     20\n",
            "Departamento de Economía de la Empresa                                       1\n",
            "Departamento de Estadística                                                 17\n",
            "Departamento de Física                                                      10\n",
            "Departamento de Informática                                                151\n",
            "Departamento de Ingeniería Aeroespacial                                     66\n",
            "Departamento de Ingeniería Eléctrica                                        59\n",
            "Departamento de Ingeniería Mecánica                                         98\n",
            "Departamento de Ingeniería Telemática                                       83\n",
            "Departamento de Ingeniería Térmica y de Fluidos                             92\n",
            "Departamento de Ingeniería de Sistemas y Automática                         57\n",
            "Departamento de Matemáticas                                                 19\n",
            "Departamento de Mecánica de Medios Continuos y Teoría de Estructuras        68\n",
            "Departamento de Tecnología Electrónica                                      84\n",
            "Departamento de Teoría de la Señal y Comunicaciones                         86\n",
            "dtype: int64\n"
          ]
        }
      ]
    },
    {
      "cell_type": "code",
      "source": [
        "# Por departamento\n",
        "departamento = df.groupby(\"DEPARTAMENTO_TUTOR\").size()\n",
        "print(departamento)"
      ],
      "metadata": {
        "colab": {
          "base_uri": "https://localhost:8080/"
        },
        "id": "lmxKSzqruav1",
        "outputId": "2de0cda3-e294-4509-f8da-de423dfd5e87"
      },
      "execution_count": 12,
      "outputs": [
        {
          "output_type": "stream",
          "name": "stdout",
          "text": [
            "DEPARTAMENTO_TUTOR\n",
            "Departamento de Bioingeniería                                               41\n",
            "Departamento de Ciencia e Ingeniería de Materiales e Ingenieria Química     20\n",
            "Departamento de Economía de la Empresa                                       1\n",
            "Departamento de Estadística                                                 17\n",
            "Departamento de Física                                                      10\n",
            "Departamento de Informática                                                151\n",
            "Departamento de Ingeniería Aeroespacial                                     66\n",
            "Departamento de Ingeniería Eléctrica                                        59\n",
            "Departamento de Ingeniería Mecánica                                         98\n",
            "Departamento de Ingeniería Telemática                                       83\n",
            "Departamento de Ingeniería Térmica y de Fluidos                             92\n",
            "Departamento de Ingeniería de Sistemas y Automática                         57\n",
            "Departamento de Matemáticas                                                 19\n",
            "Departamento de Mecánica de Medios Continuos y Teoría de Estructuras        68\n",
            "Departamento de Tecnología Electrónica                                      84\n",
            "Departamento de Teoría de la Señal y Comunicaciones                         86\n",
            "dtype: int64\n"
          ]
        }
      ]
    },
    {
      "cell_type": "code",
      "source": [
        "# PARTE 2: SOLO \"DEPARTAMENTO DE\" Y GENERAMOS UN ARCHIVO POR DEPARTAMENTO\n",
        "import unicodedata\n",
        "\n",
        "def remove_accents(text):\n",
        "    if isinstance(text, str):\n",
        "        return \"\".join(c for c in unicodedata.normalize(\"NFD\", text) if unicodedata.category(c) != \"Mn\")\n",
        "    return text\n",
        "\n",
        "input_file_clean = 'JASPER_TOTAL-23-24-clean.xlsx'\n",
        "df = pd.read_excel(input_file_clean)\n",
        "\n",
        "df[\"DEPARTAMENTO_TUTOR\"] = df[\"DEPARTAMENTO_TUTOR\"].apply(remove_accents)\n",
        "\n",
        "# Estadisticas\n",
        "total_rows = df.shape[0]\n",
        "print(f\"Total number of rows: {total_rows}\")\n",
        "\n",
        "filtered_df = df[df[\"DEPARTAMENTO_TUTOR\"].str.startswith(\"Departamento de\", na=False)]\n",
        "total_rows = filtered_df.shape[0]\n",
        "print(f\"Total number of rows where Departamento de: {total_rows}\")\n",
        "\n",
        "\n",
        "output_folder = \"TFE-Departamentos\"\n",
        "os.makedirs(output_folder, exist_ok=True)\n",
        "\n",
        "for department, group_df in filtered_df.groupby(\"DEPARTAMENTO_TUTOR\"):\n",
        "    safe_filename = f\"{department}.xlsx\".replace(\"/\", \"_\").replace(\" \", \"_\")\n",
        "    file_path = os.path.join(output_folder, safe_filename)\n",
        "    group_df.to_excel(filename, index=False, engine=\"openpyxl\")\n",
        "    print(f\"Saved {filename}\")\n"
      ],
      "metadata": {
        "colab": {
          "base_uri": "https://localhost:8080/"
        },
        "id": "nXY16fdslVOn",
        "outputId": "5d00dd24-ffde-490d-f8fd-59e67c8322e0"
      },
      "execution_count": null,
      "outputs": [
        {
          "output_type": "stream",
          "name": "stdout",
          "text": [
            "Total number of rows: 1339\n",
            "Total number of rows where Departamento de: 1332\n",
            "Saved Departamento_de_Bioingenieria.xlsx\n",
            "Saved Departamento_de_Ciencia_e_Ingenieria_de_Materiales_e_Ingenieria_Quimica.xlsx\n",
            "Saved Departamento_de_Economia_de_la_Empresa.xlsx\n",
            "Saved Departamento_de_Estadistica.xlsx\n",
            "Saved Departamento_de_Fisica.xlsx\n",
            "Saved Departamento_de_Informatica.xlsx\n",
            "Saved Departamento_de_Ingenieria_Aeroespacial.xlsx\n",
            "Saved Departamento_de_Ingenieria_Electrica.xlsx\n",
            "Saved Departamento_de_Ingenieria_Mecanica.xlsx\n",
            "Saved Departamento_de_Ingenieria_Telematica.xlsx\n",
            "Saved Departamento_de_Ingenieria_Termica_y_de_Fluidos.xlsx\n",
            "Saved Departamento_de_Ingenieria_de_Sistemas_y_Automatica.xlsx\n",
            "Saved Departamento_de_Matematicas.xlsx\n",
            "Saved Departamento_de_Mecanica_de_Medios_Continuos_y_Teoria_de_Estructuras.xlsx\n",
            "Saved Departamento_de_Tecnologia_Electronica.xlsx\n",
            "Saved Departamento_de_Teoria_de_la_Senal_y_Comunicaciones.xlsx\n"
          ]
        }
      ]
    }
  ]
}