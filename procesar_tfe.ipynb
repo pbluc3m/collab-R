{
  "nbformat": 4,
  "nbformat_minor": 0,
  "metadata": {
    "colab": {
      "provenance": [],
      "authorship_tag": "ABX9TyOq0H6KKqZkaAdWuC8TnEhS",
      "include_colab_link": true
    },
    "kernelspec": {
      "name": "python3",
      "display_name": "Python 3"
    },
    "language_info": {
      "name": "python"
    }
  },
  "cells": [
    {
      "cell_type": "markdown",
      "metadata": {
        "id": "view-in-github",
        "colab_type": "text"
      },
      "source": [
        "<a href=\"https://colab.research.google.com/github/pbluc3m/collab-R/blob/main/procesar_tfe.ipynb\" target=\"_parent\"><img src=\"https://colab.research.google.com/assets/colab-badge.svg\" alt=\"Open In Colab\"/></a>"
      ]
    },
    {
      "cell_type": "code",
      "source": [
        "# Parte 0: cojo los ficheros de Olivia y Teresa y los uno para lo que me interesa\n",
        "\n",
        "import pandas as pd\n",
        "\n",
        "input_teresa = 'JASPER_TFE_EPS_23-24.xlsx'\n",
        "input_olivia = 'JASPER_TFF_COLME_23-24.xls'\n",
        "\n",
        "df_teresa = pd.read_excel(input_teresa)\n",
        "df_olivia = pd.read_excel(input_olivia)\n",
        "\n",
        "columnas = [\"NIA\", \"ALUMNO\", \"COD.CENTRO\", \"CENTRO\", \"COD.EST\", \"ESTUDIOS\", \"COD.PLAN\", \"PLAN\", \"COD.ASIG\", \"ASIGNATURA\", \"COD.OFERTA\", \"TITULO\", \"IDIOMA\", \"NOTA\", \"CALIF\", \"SUPERADA\", \"TUTOR\", \"DEPARTAMENTO_TUTOR\", \"TUTOR_EXTERNO\"]\n",
        "df_teresa_c = df_teresa.loc[:, df_teresa.columns.intersection(columnas)]\n",
        "df_olivia_c = df_olivia.loc[:, df_olivia.columns.intersection(columnas)]\n",
        "\n",
        "df = pd.concat([df_teresa_c, df_olivia_c], ignore_index=True)\n",
        "\n"
      ],
      "metadata": {
        "id": "csM-yDrdCiaF"
      },
      "execution_count": 13,
      "outputs": []
    },
    {
      "cell_type": "code",
      "source": [
        "# Vamos a arreglar dos casos identificados\n",
        "\n",
        "# Asignar tutores a departamento\n",
        "df.loc[df['TUTOR'] == \"GONZALEZ CABAÑAS, JOSE\", 'DEPARTAMENTO_TUTOR'] = \"Departamento de Ingeniería Telemática\"\n",
        "df.loc[df['TUTOR'] == \"GOMEZ MARTIN, ADRIAN\", 'DEPARTAMENTO_TUTOR'] = \"Departamento de Bioingeniería\"\n",
        "\n",
        "# Para doble grado Informatica ADE,\n",
        "df['ASIGNATURA'] = df['ASIGNATURA'].replace(\n",
        "    \"Trabajo Fin de Grado (Informática)\",\n",
        "    \"Trabajo Fin de Grado\"\n",
        ")\n",
        "# La tilde\n",
        "df['ASIGNATURA'] = df['ASIGNATURA'].replace(\n",
        "    \"Trabajo Fin de Master\",\n",
        "    \"Trabajo Fin de Máster\"\n",
        ")\n",
        "# La 'de'\n",
        "df['ASIGNATURA'] = df['ASIGNATURA'].replace(\n",
        "    \"Trabajo de Fin de Máster\",\n",
        "    \"Trabajo Fin de Máster\"\n",
        ")"
      ],
      "metadata": {
        "id": "ztySTTcjtGRr"
      },
      "execution_count": 14,
      "outputs": []
    },
    {
      "cell_type": "code",
      "execution_count": 15,
      "metadata": {
        "colab": {
          "base_uri": "https://localhost:8080/"
        },
        "id": "aHT05bpvDw-y",
        "outputId": "f0f3ae9f-3db3-468e-f010-ee15ec7abc12"
      },
      "outputs": [
        {
          "output_type": "stream",
          "name": "stdout",
          "text": [
            "Total TFEs: 1350\n",
            "Total TFEs superados: 1339\n",
            "Total TFEs superados sin ADE: 1305\n"
          ]
        }
      ],
      "source": [
        "# PARTE 1: BASIC STATS\n",
        "\n",
        "total_rows = df.shape[0]\n",
        "print(f\"Total TFEs: {total_rows}\")\n",
        "\n",
        "# Vamos a quedarnos con los superados\n",
        "df = df[df[\"SUPERADA\"].str.strip().str.upper() == \"S\"]\n",
        "filtered_rows = df.shape[0]\n",
        "print(f\"Total TFEs superados: {filtered_rows}\")\n",
        "\n",
        "# Vamos a quitar los de ADE\n",
        "df = df[df[\"ASIGNATURA\"] != \"Trabajo Fin de Grado (ADE)\"]\n",
        "\n",
        "filtered_rows = df.shape[0]\n",
        "print(f\"Total TFEs superados sin ADE: {filtered_rows}\")\n"
      ]
    },
    {
      "cell_type": "code",
      "source": [
        "# Por centro\n",
        "centro = df.groupby(\"ASIGNATURA\").size()\n",
        "print(centro)"
      ],
      "metadata": {
        "colab": {
          "base_uri": "https://localhost:8080/"
        },
        "id": "noke6XLisdjp",
        "outputId": "67a27c49-b397-4b03-a0ba-fbed082fc781"
      },
      "execution_count": 16,
      "outputs": [
        {
          "output_type": "stream",
          "name": "stdout",
          "text": [
            "ASIGNATURA\n",
            "Trabajo Fin de Grado     1031\n",
            "Trabajo Fin de Máster     274\n",
            "dtype: int64\n"
          ]
        }
      ]
    },
    {
      "cell_type": "code",
      "source": [
        "# Por centro\n",
        "centro = df.groupby(\"CENTRO\").size()\n",
        "print(centro)"
      ],
      "metadata": {
        "colab": {
          "base_uri": "https://localhost:8080/"
        },
        "id": "bM0kOXF7sWgt",
        "outputId": "d4fc2c10-3d84-4d0c-ce5e-c7c6b937f17c"
      },
      "execution_count": 17,
      "outputs": [
        {
          "output_type": "stream",
          "name": "stdout",
          "text": [
            "CENTRO\n",
            "Escuela Politécnica Superior (Colmenarejo)             79\n",
            "Escuela Politécnica Superior (Leganés)                952\n",
            "Escuela Politécnica Superior - Centro de Postgrado    274\n",
            "dtype: int64\n"
          ]
        }
      ]
    },
    {
      "cell_type": "code",
      "source": [
        "# Por estudios\n",
        "estudio_counts = df.groupby(\"ESTUDIOS\").size()\n",
        "print(estudio_counts)"
      ],
      "metadata": {
        "colab": {
          "base_uri": "https://localhost:8080/"
        },
        "id": "vEfuYB0KuO4B",
        "outputId": "46a8a188-76b6-42ed-eff1-88e6d881543f"
      },
      "execution_count": 18,
      "outputs": [
        {
          "output_type": "stream",
          "name": "stdout",
          "text": [
            "ESTUDIOS\n",
            "Alumnos de Programas de Intercambio                                                      1\n",
            "Doble Grado en Ingeniería Física e Ingeniería en Tecnologías Industriales                1\n",
            "Doble Grado en Ingeniería Informática y Administración de Empresas                      28\n",
            "Grado en Ciencia e Ingeniería de Datos                                                  48\n",
            "Grado en Ciencias                                                                        1\n",
            "Grado en Ingeniería Aeroespacial                                                        89\n",
            "Grado en Ingeniería Biomédica                                                           53\n",
            "Grado en Ingeniería Electrónica Industrial y Automática                                 94\n",
            "Grado en Ingeniería Eléctrica                                                           32\n",
            "Grado en Ingeniería Física                                                              22\n",
            "Grado en Ingeniería Informática                                                        185\n",
            "Grado en Ingeniería Mecánica                                                           108\n",
            "Grado en Ingeniería Telemática                                                          27\n",
            "Grado en Ingeniería de Comunicaciones Móviles y Espaciales                              15\n",
            "Grado en Ingeniería de Sonido e Imagen                                                  29\n",
            "Grado en Ingeniería de la Energía                                                       26\n",
            "Grado en Ingeniería en Tecnologías Industriales                                        164\n",
            "Grado en Ingeniería en Tecnologías de Telecomunicación                                  75\n",
            "Grado en Matemática Aplicada y Computación                                              33\n",
            "Master Universitario en Ingeniería Industrial                                          173\n",
            "Master Universitario en Ingeniería Informática                                          16\n",
            "Master Universitario en Ingeniería de Telecomunicación                                  40\n",
            "Máster Universitario en Ingeniería Aeronáutica / Master in Aeronautical Engineering     43\n",
            "Programas de Intercambio de Postgrado                                                    2\n",
            "dtype: int64\n"
          ]
        }
      ]
    },
    {
      "cell_type": "code",
      "source": [
        "# Por departamento\n",
        "departamento = df.groupby(\"DEPARTAMENTO_TUTOR\").size()\n",
        "print(departamento)"
      ],
      "metadata": {
        "colab": {
          "base_uri": "https://localhost:8080/"
        },
        "id": "lmxKSzqruav1",
        "outputId": "7cd0a494-0e62-45ed-b13a-d9597f1723c6"
      },
      "execution_count": 19,
      "outputs": [
        {
          "output_type": "stream",
          "name": "stdout",
          "text": [
            "DEPARTAMENTO_TUTOR\n",
            "Departamento de Bioingeniería                                               41\n",
            "Departamento de Ciencia e Ingeniería de Materiales e Ingenieria Química     24\n",
            "Departamento de Economía de la Empresa                                       1\n",
            "Departamento de Estadística                                                 17\n",
            "Departamento de Física                                                      10\n",
            "Departamento de Informática                                                236\n",
            "Departamento de Ingeniería Aeroespacial                                    110\n",
            "Departamento de Ingeniería Eléctrica                                        81\n",
            "Departamento de Ingeniería Mecánica                                        141\n",
            "Departamento de Ingeniería Telemática                                      105\n",
            "Departamento de Ingeniería Térmica y de Fluidos                            133\n",
            "Departamento de Ingeniería de Sistemas y Automática                         83\n",
            "Departamento de Matemáticas                                                 19\n",
            "Departamento de Mecánica de Medios Continuos y Teoría de Estructuras       100\n",
            "Departamento de Tecnología Electrónica                                      99\n",
            "Departamento de Teoría de la Señal y Comunicaciones                        105\n",
            "dtype: int64\n"
          ]
        }
      ]
    },
    {
      "cell_type": "code",
      "source": [
        "# PARTE 2: SOLO \"DEPARTAMENTO DE\" Y GENERAMOS UN ARCHIVO POR DEPARTAMENTO\n",
        "import unicodedata\n",
        "import os\n",
        "\n",
        "def remove_accents(text):\n",
        "    if isinstance(text, str):\n",
        "        return \"\".join(c for c in unicodedata.normalize(\"NFD\", text) if unicodedata.category(c) != \"Mn\")\n",
        "    return text\n",
        "\n",
        "# Quitamos tildes\n",
        "\n",
        "df[\"DEPARTAMENTO_TUTOR\"] = df[\"DEPARTAMENTO_TUTOR\"].apply(remove_accents)\n",
        "\n",
        "# Estadisticas\n",
        "total_rows = df.shape[0]\n",
        "print(f\"Total number of rows: {total_rows}\")\n",
        "\n",
        "filtered_df = df[df[\"DEPARTAMENTO_TUTOR\"].str.startswith(\"Departamento de\", na=False)]\n",
        "total_rows = filtered_df.shape[0]\n",
        "print(f\"Total number of rows where Departamento de: {total_rows}\")\n",
        "\n",
        "\n",
        "output_folder = \"TFE-Departamentos\"\n",
        "os.makedirs(output_folder, exist_ok=True)\n",
        "\n",
        "for department, group_df in filtered_df.groupby(\"DEPARTAMENTO_TUTOR\"):\n",
        "    safe_filename = f\"{department}.xlsx\".replace(\"/\", \"_\").replace(\" \", \"_\")\n",
        "    file_path = os.path.join(output_folder, safe_filename)\n",
        "    group_df.to_excel(file_path, index=False, engine=\"openpyxl\")\n",
        "    print(f\"Saved {file_path}\")\n"
      ],
      "metadata": {
        "colab": {
          "base_uri": "https://localhost:8080/"
        },
        "id": "nXY16fdslVOn",
        "outputId": "578ae83f-171e-4480-a616-1117bcfa9fe0"
      },
      "execution_count": 23,
      "outputs": [
        {
          "output_type": "stream",
          "name": "stdout",
          "text": [
            "Total number of rows: 1305\n",
            "Total number of rows where Departamento de: 1305\n",
            "Saved TFE-Departamentos/Departamento_de_Bioingenieria.xlsx\n",
            "Saved TFE-Departamentos/Departamento_de_Ciencia_e_Ingenieria_de_Materiales_e_Ingenieria_Quimica.xlsx\n",
            "Saved TFE-Departamentos/Departamento_de_Economia_de_la_Empresa.xlsx\n",
            "Saved TFE-Departamentos/Departamento_de_Estadistica.xlsx\n",
            "Saved TFE-Departamentos/Departamento_de_Fisica.xlsx\n",
            "Saved TFE-Departamentos/Departamento_de_Informatica.xlsx\n",
            "Saved TFE-Departamentos/Departamento_de_Ingenieria_Aeroespacial.xlsx\n",
            "Saved TFE-Departamentos/Departamento_de_Ingenieria_Electrica.xlsx\n",
            "Saved TFE-Departamentos/Departamento_de_Ingenieria_Mecanica.xlsx\n",
            "Saved TFE-Departamentos/Departamento_de_Ingenieria_Telematica.xlsx\n",
            "Saved TFE-Departamentos/Departamento_de_Ingenieria_Termica_y_de_Fluidos.xlsx\n",
            "Saved TFE-Departamentos/Departamento_de_Ingenieria_de_Sistemas_y_Automatica.xlsx\n",
            "Saved TFE-Departamentos/Departamento_de_Matematicas.xlsx\n",
            "Saved TFE-Departamentos/Departamento_de_Mecanica_de_Medios_Continuos_y_Teoria_de_Estructuras.xlsx\n",
            "Saved TFE-Departamentos/Departamento_de_Tecnologia_Electronica.xlsx\n",
            "Saved TFE-Departamentos/Departamento_de_Teoria_de_la_Senal_y_Comunicaciones.xlsx\n"
          ]
        }
      ]
    }
  ]
}