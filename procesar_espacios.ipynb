{
  "nbformat": 4,
  "nbformat_minor": 0,
  "metadata": {
    "colab": {
      "provenance": [],
      "authorship_tag": "ABX9TyMB8TtmOm6+J6nS/L+A6mBk",
      "include_colab_link": true
    },
    "kernelspec": {
      "name": "python3",
      "display_name": "Python 3"
    },
    "language_info": {
      "name": "python"
    }
  },
  "cells": [
    {
      "cell_type": "markdown",
      "metadata": {
        "id": "view-in-github",
        "colab_type": "text"
      },
      "source": [
        "<a href=\"https://colab.research.google.com/github/pbluc3m/collab-R/blob/main/procesar_espacios.ipynb\" target=\"_parent\"><img src=\"https://colab.research.google.com/assets/colab-badge.svg\" alt=\"Open In Colab\"/></a>"
      ]
    },
    {
      "cell_type": "code",
      "execution_count": 19,
      "metadata": {
        "id": "a0yr2P5eIfsf"
      },
      "outputs": [],
      "source": [
        "import pandas as pd\n",
        "\n",
        "# Load all sheets from the Excel file into a dictionary of DataFrames\n",
        "file_path = \"input-febrero-2025.xlsx\"\n",
        "sheets = pd.read_excel(file_path, sheet_name=None)  # Load all sheets\n",
        "\n",
        "# Function to normalize building names\n",
        "def normalize_building_name(name):\n",
        "    if name.startswith(\"Edificio 7.\"):  # Merge \"Edificio 7.1\" and \"Edificio 7.2\" into \"Edificio 7\"\n",
        "        return \"Edificio 7\"\n",
        "    return name\n",
        "\n",
        "# Merge all sheets into a single DataFrame with an extra column for the normalized building number\n",
        "df_list = []\n",
        "for building_number, df in sheets.items():\n",
        "    df[\"Building\"] = normalize_building_name(building_number)  # Normalize the name\n",
        "    df_list.append(df)\n",
        "\n",
        "# Concatenate all DataFrames into one\n",
        "merged_df = pd.concat(df_list, ignore_index=True)\n",
        "\n",
        "# Display the first few rows\n",
        "# print(merged_df.head())"
      ]
    },
    {
      "cell_type": "code",
      "source": [
        "total_rows = merged_df.shape[0]\n",
        "print(f\"Total Entries: {total_rows}\")\n",
        "\n",
        "#centro = merged_df.groupby(\"Building\").size()\n",
        "#print(centro)\n",
        "\n",
        "summary_df = merged_df.groupby(\"Building\", as_index=False)[\"Superficie m2\"].sum()\n",
        "# Display the summarized data\n",
        "#print(summary_df)\n",
        "\n",
        "total_superficie = merged_df[\"Superficie m2\"].sum()\n",
        "print(\"Total Superficie:\", total_superficie)\n",
        "\n",
        "# Compute the total 'Superficie m2' where 'DEPENDENCIA ORGANIZATIVA' starts with \"DPTO.\"\n",
        "total_superficie_dpto = merged_df.loc[\n",
        "    merged_df[\"DEPENDENCIA ORGANIZATIVA\"].str.startswith(\"DPTO.\", na=False),\n",
        "    \"Superficie m2\"\n",
        "].sum()\n",
        "\n",
        "print(\"Total Superficie DPTO.:\", total_superficie_dpto)\n",
        "\n",
        "summary_df = merged_df.groupby(\"DEPENDENCIA ORGANIZATIVA\", as_index=False)[\"Superficie m2\"].sum()\n",
        "# Display the summarized data\n",
        "# print(summary_df)\n",
        "\n",
        "\n"
      ],
      "metadata": {
        "colab": {
          "base_uri": "https://localhost:8080/"
        },
        "id": "dmk_pHFJJpxT",
        "outputId": "d8610a8e-991c-4db6-db40-97f47d76c4dc"
      },
      "execution_count": 32,
      "outputs": [
        {
          "output_type": "stream",
          "name": "stdout",
          "text": [
            "Total Entries: 1188\n",
            "Total Superficie: 60012.81\n",
            "Total Superficie DPTO.: 23180.879999999997\n"
          ]
        }
      ]
    }
  ]
}